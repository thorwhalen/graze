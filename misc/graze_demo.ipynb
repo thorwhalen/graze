{
 "cells": [
  {
   "cell_type": "markdown",
   "id": "b0a18b9b",
   "metadata": {},
   "source": [
    "# Setup"
   ]
  },
  {
   "cell_type": "code",
   "execution_count": 1,
   "id": "eefffb58",
   "metadata": {},
   "outputs": [],
   "source": [
    "import os\n",
    "import graze"
   ]
  },
  {
   "cell_type": "markdown",
   "id": "5942b069",
   "metadata": {},
   "source": [
    "Here we're just setting up some urls to play with. We choose to first transform these into tiny urls so they take less space!"
   ]
  },
  {
   "cell_type": "code",
   "execution_count": 2,
   "id": "9bdb715b",
   "metadata": {},
   "outputs": [
    {
     "name": "stdout",
     "output_type": "stream",
     "text": [
      "url1='https://tinyurl.com/24vnnr29'\n",
      "url2='https://tinyurl.com/288vf8rm'\n"
     ]
    }
   ],
   "source": [
    "_original_url1 = 'https://raw.githubusercontent.com/thorwhalen/graze/refs/heads/master/README.md'\n",
    "_original_url2 = 'https://raw.githubusercontent.com/thorwhalen/graze/refs/heads/master/LICENSE'\n",
    "\n",
    "url1 = graze.tiny_url(_original_url1)\n",
    "url2 = graze.tiny_url(_original_url2)\n",
    "\n",
    "print(f\"{url1=}\")\n",
    "print(f\"{url2=}\")"
   ]
  },
  {
   "cell_type": "code",
   "execution_count": 3,
   "id": "1f05cda7",
   "metadata": {},
   "outputs": [
    {
     "name": "stdout",
     "output_type": "stream",
     "text": [
      "Using cache rootdir: /var/folders/mc/c070wfh51kxd9lft8dl74q1r0000gn/T/graze_cache_25_ausil\n"
     ]
    }
   ],
   "source": [
    "# NOTE: If you say cache_rootdir=None, it won't use a temporary directory, but the \n",
    "# default cache directory on your system (whatever DFLT_GRAZE_DIR is set to).\n",
    "cache_rootdir = False \n",
    "\n",
    "if cache_rootdir is False:\n",
    "    # Get an empty temporary directory to use as our cache\n",
    "    import tempfile\n",
    "    \n",
    "    cache_rootdir = tempfile.mkdtemp(prefix=\"graze_cache_\")\n",
    "\n",
    "print(f\"Using cache rootdir: {cache_rootdir}\")"
   ]
  },
  {
   "cell_type": "markdown",
   "id": "fb10ffd0",
   "metadata": {},
   "source": [
    "# Basics"
   ]
  },
  {
   "cell_type": "markdown",
   "id": "0471c046",
   "metadata": {},
   "source": [
    "Note that even just g = Graze() will work, it will just use the default graze.DFLT_GRAZE_DIR location. This is practical to \"just download and cache\" files, and given the filepaths \n",
    "are automatically created from the urls, you still have **some** automatic separation \n",
    "in so far as the url structure separates (protocol, domain name, extension, etc.).  Here we are specifying our own cache root directory."
   ]
  },
  {
   "cell_type": "code",
   "execution_count": 4,
   "id": "cd0998c0",
   "metadata": {},
   "outputs": [
    {
     "name": "stdout",
     "output_type": "stream",
     "text": [
      "Graze cache directory: /var/folders/mc/c070wfh51kxd9lft8dl74q1r0000gn/T/graze_cache_25_ausil\n"
     ]
    }
   ],
   "source": [
    "g = graze.Graze(cache_rootdir)\n",
    "print(f\"Graze cache directory: {g.rootdir}\")"
   ]
  },
  {
   "cell_type": "markdown",
   "id": "43fcdd9d",
   "metadata": {},
   "source": [
    "List the items in your graze cache (you should have none if you used the temp folder as your root)."
   ]
  },
  {
   "cell_type": "code",
   "execution_count": 5,
   "id": "e7cff1ad",
   "metadata": {},
   "outputs": [
    {
     "data": {
      "text/plain": [
       "[]"
      ]
     },
     "execution_count": 5,
     "metadata": {},
     "output_type": "execute_result"
    }
   ],
   "source": [
    "list(g)"
   ]
  },
  {
   "cell_type": "markdown",
   "id": "6813deb0",
   "metadata": {},
   "source": [
    "Now let's get the contents for `url1`. "
   ]
  },
  {
   "cell_type": "code",
   "execution_count": 6,
   "id": "23a516b2",
   "metadata": {},
   "outputs": [
    {
     "name": "stdout",
     "output_type": "stream",
     "text": [
      "13134 bytes \n"
     ]
    }
   ],
   "source": [
    "url1_contents = g[url1]\n",
    "print(f\"{len(url1_contents)} {type(url1_contents).__name__} \")"
   ]
  },
  {
   "cell_type": "markdown",
   "id": "9d3c42ed",
   "metadata": {},
   "source": [
    "And now you should have oneitem in your cache, so `g` will list it."
   ]
  },
  {
   "cell_type": "code",
   "execution_count": 16,
   "id": "5aa96d93",
   "metadata": {},
   "outputs": [
    {
     "data": {
      "text/plain": [
       "['https://tinyurl.com/24vnnr29']"
      ]
     },
     "execution_count": 16,
     "metadata": {},
     "output_type": "execute_result"
    }
   ],
   "source": [
    "list(g)"
   ]
  },
  {
   "cell_type": "markdown",
   "id": "2bb60f45",
   "metadata": {},
   "source": [
    "Let's get those contents as before, but this time, it's taken from the cache\n",
    "You won't really notice here, but you **will** notice if you're offline or dealing with a lot of data."
   ]
  },
  {
   "cell_type": "code",
   "execution_count": null,
   "id": "d7f8a61f",
   "metadata": {},
   "outputs": [
    {
     "name": "stdout",
     "output_type": "stream",
     "text": [
      "13134 bytes \n"
     ]
    }
   ],
   "source": [
    "url1_contents = g[url1]\n",
    "print(f\"{len(url1_contents)} {type(url1_contents).__name__} \")"
   ]
  },
  {
   "cell_type": "markdown",
   "id": "68107222",
   "metadata": {},
   "source": [
    "Now let's get the contents of `url2`."
   ]
  },
  {
   "cell_type": "code",
   "execution_count": 9,
   "id": "bfbcc65b",
   "metadata": {},
   "outputs": [
    {
     "name": "stdout",
     "output_type": "stream",
     "text": [
      "1069 bytes \n"
     ]
    }
   ],
   "source": [
    "url2_contents = g[url2]\n",
    "print(f\"{len(url2_contents)} {type(url2_contents).__name__} \")"
   ]
  },
  {
   "cell_type": "markdown",
   "id": "c6fa9196",
   "metadata": {},
   "source": [
    "Notice `g` lists the contents of your cache as urls."
   ]
  },
  {
   "cell_type": "code",
   "execution_count": 10,
   "id": "26546d36",
   "metadata": {},
   "outputs": [
    {
     "data": {
      "text/plain": [
       "['https://tinyurl.com/288vf8rm', 'https://tinyurl.com/24vnnr29']"
      ]
     },
     "execution_count": 10,
     "metadata": {},
     "output_type": "execute_result"
    }
   ],
   "source": [
    "list(g)"
   ]
  },
  {
   "cell_type": "markdown",
   "id": "e2706094",
   "metadata": {},
   "source": [
    "But you can see what the cache file is:"
   ]
  },
  {
   "cell_type": "code",
   "execution_count": 11,
   "id": "68819a0c",
   "metadata": {},
   "outputs": [
    {
     "name": "stdout",
     "output_type": "stream",
     "text": [
      "/var/folders/mc/c070wfh51kxd9lft8dl74q1r0000gn/T/graze_cache_25_ausil/https/tinyurl.com_f/24vnnr29\n"
     ]
    }
   ],
   "source": [
    "filepath = g.filepath_of(url1)\n",
    "assert os.path.isfile(filepath)\n",
    "print(f\"{filepath}\")"
   ]
  },
  {
   "cell_type": "markdown",
   "id": "f522cb3a",
   "metadata": {},
   "source": [
    "# Deleting cached data"
   ]
  },
  {
   "cell_type": "markdown",
   "id": "cec1b374",
   "metadata": {},
   "source": [
    "If you want to refresh data from the source, you can delete the cached copy:"
   ]
  },
  {
   "cell_type": "code",
   "execution_count": 13,
   "id": "0b04737d",
   "metadata": {},
   "outputs": [
    {
     "name": "stdout",
     "output_type": "stream",
     "text": [
      "Before deletion: 2 items\n",
      "url1 in cache: True\n",
      "\n",
      "After deleting url1: 1 items\n",
      "url1 in cache: False\n",
      "\n",
      "Re-accessing url1 (will download again)...\n",
      "url1 in cache: True\n",
      "url1 in cache: True\n"
     ]
    }
   ],
   "source": [
    "print(f\"Before deletion: {len(g)} items\")\n",
    "print(f\"url1 in cache: {url1 in g}\")\n",
    "\n",
    "# Delete url1 from cache\n",
    "del g[url1]\n",
    "\n",
    "print(f\"\\nAfter deleting url1: {len(g)} items\")\n",
    "print(f\"url1 in cache: {url1 in g}\")\n",
    "\n",
    "# Next access will re-download\n",
    "print(\"\\nRe-accessing url1 (will download again)...\")\n",
    "url1_contents_again = g[url1]\n",
    "print(f\"url1 in cache: {url1 in g}\")"
   ]
  },
  {
   "cell_type": "markdown",
   "id": "35dc6ed4",
   "metadata": {},
   "source": [
    "# Dict-like operations"
   ]
  },
  {
   "cell_type": "markdown",
   "id": "f51c89b1",
   "metadata": {},
   "source": [
    "Graze acts like a dictionary, so you can use familiar dict operations:"
   ]
  },
  {
   "cell_type": "code",
   "execution_count": 14,
   "id": "7d54435c",
   "metadata": {},
   "outputs": [],
   "source": [
    "# Let's delete url2 so it's not in the cache anymore\n",
    "del g[url2]"
   ]
  },
  {
   "cell_type": "code",
   "execution_count": 15,
   "id": "f9030c55",
   "metadata": {},
   "outputs": [
    {
     "name": "stdout",
     "output_type": "stream",
     "text": [
      "Is url1 cached? True\n",
      "Is url2 cached? False\n",
      "\n",
      "After fetching url2:\n",
      "Is url2 cached? True\n"
     ]
    }
   ],
   "source": [
    "# Check if URL is in cache\n",
    "print(f\"Is url1 cached? {url1 in g}\")\n",
    "print(f\"Is url2 cached? {url2 in g}\")\n",
    "\n",
    "# Get url2 to cache it\n",
    "url2_contents = g[url2]\n",
    "print(f\"\\nAfter fetching url2:\")\n",
    "print(f\"Is url2 cached? {url2 in g}\")"
   ]
  },
  {
   "cell_type": "code",
   "execution_count": 16,
   "id": "5c19a1d4",
   "metadata": {},
   "outputs": [
    {
     "name": "stdout",
     "output_type": "stream",
     "text": [
      "Number of cached URLs: 2\n",
      "\n",
      "Cached URLs:\n",
      "  - https://tinyurl.com/288vf8rm\n",
      "  - https://tinyurl.com/24vnnr29\n"
     ]
    }
   ],
   "source": [
    "# Count cached items\n",
    "print(f\"Number of cached URLs: {len(g)}\")\n",
    "\n",
    "# Iterate over cached URLs\n",
    "print(\"\\nCached URLs:\")\n",
    "for url in g:\n",
    "    print(f\"  - {url}\")"
   ]
  },
  {
   "cell_type": "code",
   "execution_count": 17,
   "id": "5a07ccba",
   "metadata": {},
   "outputs": [
    {
     "name": "stdout",
     "output_type": "stream",
     "text": [
      "Keys (URLs):\n",
      "  https://tinyurl.com/288vf8rm\n",
      "  https://tinyurl.com/24vnnr29\n",
      "\n",
      "Values (first 50 bytes of each):\n",
      "  b'MIT License\\n\\nCopyright (c) [year] [fullname]\\n\\nPerm'...\n",
      "  b'# graze\\n\\nCache (a tiny part of) the internet.\\n\\n(Fo'...\n",
      "\n",
      "Items (first 50 bytes of content):\n",
      "  https://tinyurl.com/288vf8rm: b'MIT License\\n\\nCopyright (c) [year] [fullname]\\n\\nPerm'...\n",
      "  https://tinyurl.com/24vnnr29: b'# graze\\n\\nCache (a tiny part of) the internet.\\n\\n(Fo'...\n"
     ]
    }
   ],
   "source": [
    "# Get keys, values, items\n",
    "print(\"Keys (URLs):\")\n",
    "for key in g.keys():\n",
    "    print(f\"  {key}\")\n",
    "\n",
    "print(\"\\nValues (first 50 bytes of each):\")\n",
    "for value in g.values():\n",
    "    print(f\"  {value[:50]}...\")\n",
    "\n",
    "print(\"\\nItems (first 50 bytes of content):\")\n",
    "for key, value in g.items():\n",
    "    print(f\"  {key}: {value[:50]}...\")"
   ]
  },
  {
   "cell_type": "markdown",
   "id": "a0a69edc",
   "metadata": {},
   "source": [
    "# Working with filepaths"
   ]
  },
  {
   "cell_type": "markdown",
   "id": "87922198",
   "metadata": {},
   "source": [
    "Sometimes you need the actual file path instead of the contents:"
   ]
  },
  {
   "cell_type": "code",
   "execution_count": 18,
   "id": "5b19d8f5",
   "metadata": {},
   "outputs": [
    {
     "name": "stdout",
     "output_type": "stream",
     "text": [
      "Type: str\n",
      "Filepath: /var/folders/mc/c070wfh51kxd9lft8dl74q1r0000gn/T/graze_cache_25_ausil/https/tinyurl.com_f/24vnnr29\n",
      "File exists: True\n",
      "\n",
      "First 100 bytes: b'# graze\\n\\nCache (a tiny part of) the internet.\\n\\n(For the technically inclined, `graze` is meant to ea'\n"
     ]
    }
   ],
   "source": [
    "# Create a Graze instance that returns filepaths instead of contents\n",
    "g_filepaths = graze.Graze(cache_rootdir, return_filepaths=True)\n",
    "\n",
    "filepath1 = g_filepaths[url1]\n",
    "print(f\"Type: {type(filepath1).__name__}\")\n",
    "print(f\"Filepath: {filepath1}\")\n",
    "print(f\"File exists: {os.path.isfile(filepath1)}\")\n",
    "\n",
    "# Read the file yourself\n",
    "with open(filepath1, 'rb') as f:\n",
    "    contents = f.read()\n",
    "print(f\"\\nFirst 100 bytes: {contents[:100]}\")"
   ]
  },
  {
   "cell_type": "markdown",
   "id": "b3ec54dd",
   "metadata": {},
   "source": [
    "# Key ingress callback"
   ]
  },
  {
   "cell_type": "markdown",
   "id": "152b4a3c",
   "metadata": {},
   "source": [
    "Get notified when graze is actually downloading from the internet:"
   ]
  },
  {
   "cell_type": "code",
   "execution_count": 19,
   "id": "aeaf9392",
   "metadata": {},
   "outputs": [
    {
     "name": "stdout",
     "output_type": "stream",
     "text": [
      "Accessing url1 (not cached, will download):\n",
      "📥 Downloading: https://tinyurl.com/24vnnr29\n",
      "\n",
      "Accessing url1 again (cached, won't download):\n",
      "\n",
      "Total downloads tracked: 1\n",
      "Downloaded URLs: ['https://tinyurl.com/24vnnr29']\n",
      "\n",
      "Accessing url1 again (cached, won't download):\n",
      "\n",
      "Total downloads tracked: 1\n",
      "Downloaded URLs: ['https://tinyurl.com/24vnnr29']\n"
     ]
    }
   ],
   "source": [
    "# Create a callback that tracks downloads\n",
    "downloads = []\n",
    "\n",
    "def track_downloads(url):\n",
    "    downloads.append(url)\n",
    "    print(f\"📥 Downloading: {url}\")\n",
    "    return url\n",
    "\n",
    "# Create Graze with the callback\n",
    "g_notify = graze.Graze(cache_rootdir, key_ingress=track_downloads)\n",
    "\n",
    "# Clear cache to force re-download\n",
    "if url1 in g_notify:\n",
    "    del g_notify[url1]\n",
    "\n",
    "print(\"Accessing url1 (not cached, will download):\")\n",
    "_ = g_notify[url1]\n",
    "\n",
    "print(\"\\nAccessing url1 again (cached, won't download):\")\n",
    "_ = g_notify[url1]\n",
    "\n",
    "print(f\"\\nTotal downloads tracked: {len(downloads)}\")\n",
    "print(f\"Downloaded URLs: {downloads}\")"
   ]
  },
  {
   "cell_type": "markdown",
   "id": "ed3865c0",
   "metadata": {},
   "source": [
    "# Using the graze() function"
   ]
  },
  {
   "cell_type": "markdown",
   "id": "8dde258c",
   "metadata": {},
   "source": [
    "For one-off fetches, you can use the `graze()` function directly:"
   ]
  },
  {
   "cell_type": "code",
   "execution_count": 20,
   "id": "9e4087d8",
   "metadata": {},
   "outputs": [
    {
     "name": "stdout",
     "output_type": "stream",
     "text": [
      "Got 13134 bytes\n",
      "First 100 bytes: b'# graze\\n\\nCache (a tiny part of) the internet.\\n\\n(For the technically inclined, `graze` is meant to ea'\n",
      "\n",
      "Got 1069 bytes from url2\n",
      "\n",
      "Filepath: /var/folders/mc/c070wfh51kxd9lft8dl74q1r0000gn/T/graze_cache_25_ausil/https/tinyurl.com_f/24vnnr29\n"
     ]
    }
   ],
   "source": [
    "# Simple usage - uses default cache location\n",
    "contents = graze.graze(url1)\n",
    "print(f\"Got {len(contents)} bytes\")\n",
    "print(f\"First 100 bytes: {contents[:100]}\")\n",
    "\n",
    "# Specify cache location\n",
    "contents = graze.graze(url2, cache=cache_rootdir)\n",
    "print(f\"\\nGot {len(contents)} bytes from url2\")\n",
    "\n",
    "# Get filepath instead of contents\n",
    "filepath = graze.graze(url1, cache=cache_rootdir, return_key=True)\n",
    "print(f\"\\nFilepath: {filepath}\")"
   ]
  },
  {
   "cell_type": "markdown",
   "id": "6d5be622",
   "metadata": {},
   "source": [
    "# Custom cache backends"
   ]
  },
  {
   "cell_type": "markdown",
   "id": "81b13872",
   "metadata": {},
   "source": [
    "Graze can use any MutableMapping as a cache backend, including a simple dict for in-memory caching:"
   ]
  },
  {
   "cell_type": "code",
   "execution_count": 21,
   "id": "abc2390f",
   "metadata": {},
   "outputs": [
    {
     "name": "stdout",
     "output_type": "stream",
     "text": [
      "Cache is a dict\n",
      "Number of items in dict cache: 2\n",
      "Keys in cache: ['https/tinyurl.com_f/24vnnr29', 'https/tinyurl.com_f/288vf8rm']\n",
      "  https/tinyurl.com_f/24vnnr29: 13134 bytes\n",
      "  https/tinyurl.com_f/288vf8rm: 1069 bytes\n"
     ]
    }
   ],
   "source": [
    "# Use a dict as cache (in-memory, no persistence)\n",
    "my_cache = {}\n",
    "g_dict = graze.Graze(my_cache)\n",
    "\n",
    "# Access some URLs\n",
    "_ = g_dict[url1]\n",
    "_ = g_dict[url2]\n",
    "\n",
    "print(f\"Cache is a {type(my_cache).__name__}\")\n",
    "print(f\"Number of items in dict cache: {len(my_cache)}\")\n",
    "print(f\"Keys in cache: {list(my_cache.keys())}\")\n",
    "\n",
    "# You can also inspect the dict directly\n",
    "for key in my_cache:\n",
    "    print(f\"  {key}: {len(my_cache[key])} bytes\")"
   ]
  },
  {
   "cell_type": "markdown",
   "id": "231952d3",
   "metadata": {},
   "source": [
    "# Some other useful graze utils"
   ]
  },
  {
   "cell_type": "markdown",
   "id": "b4978adb",
   "metadata": {},
   "source": [
    "## tiny_url"
   ]
  },
  {
   "cell_type": "code",
   "execution_count": 3,
   "id": "87a77a63",
   "metadata": {},
   "outputs": [
    {
     "name": "stdout",
     "output_type": "stream",
     "text": [
      "https://tinyurl.com/24vnnr29\n"
     ]
    }
   ],
   "source": [
    "from graze import tiny_url\n",
    "\n",
    "url = 'https://raw.githubusercontent.com/thorwhalen/graze/refs/heads/master/README.md'\n",
    "little_url = tiny_url(url)\n",
    "print(little_url)"
   ]
  },
  {
   "cell_type": "markdown",
   "id": "ee5098aa",
   "metadata": {},
   "source": [
    "In the language of codecs, one could say you are \"encoding\" the url. \n",
    "We made `tiny_url` a codec with `encode` and `decode` attributes you can use. \n",
    "See that `tiny_url.encode(url)` is equivalent to `tiny_url(url)`."
   ]
  },
  {
   "cell_type": "code",
   "execution_count": null,
   "id": "4f69c3bf",
   "metadata": {},
   "outputs": [
    {
     "name": "stdout",
     "output_type": "stream",
     "text": [
      "https://tinyurl.com/24vnnr29\n"
     ]
    }
   ],
   "source": [
    "encoded_url = tiny_url.encode(url)\n",
    "assert encoded_url == little_url\n",
    "print(encoded_url)"
   ]
  },
  {
   "cell_type": "markdown",
   "id": "9bb53202",
   "metadata": {},
   "source": [
    "And `tiny_url.decode(encoded_url)` will tell you what a previously encoded `url` was."
   ]
  },
  {
   "cell_type": "code",
   "execution_count": 5,
   "id": "4ab80823",
   "metadata": {},
   "outputs": [
    {
     "name": "stdout",
     "output_type": "stream",
     "text": [
      "https://raw.githubusercontent.com/thorwhalen/graze/refs/heads/master/README.md\n"
     ]
    }
   ],
   "source": [
    "decoded_url = tiny_url.decode(encoded_url)\n",
    "assert decoded_url == url\n",
    "print(decoded_url)"
   ]
  },
  {
   "cell_type": "code",
   "execution_count": null,
   "id": "eccff8fb",
   "metadata": {},
   "outputs": [],
   "source": []
  },
  {
   "cell_type": "code",
   "execution_count": null,
   "id": "9315602f",
   "metadata": {},
   "outputs": [],
   "source": []
  }
 ],
 "metadata": {
  "kernelspec": {
   "display_name": "p12",
   "language": "python",
   "name": "python3"
  },
  "language_info": {
   "codemirror_mode": {
    "name": "ipython",
    "version": 3
   },
   "file_extension": ".py",
   "mimetype": "text/x-python",
   "name": "python",
   "nbconvert_exporter": "python",
   "pygments_lexer": "ipython3",
   "version": "3.12.12"
  }
 },
 "nbformat": 4,
 "nbformat_minor": 5
}
